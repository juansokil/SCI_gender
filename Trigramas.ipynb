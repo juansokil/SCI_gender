{
 "cells": [
  {
   "cell_type": "code",
   "execution_count": 1,
   "metadata": {},
   "outputs": [],
   "source": [
    "import string\n",
    "import math"
   ]
  },
  {
   "cell_type": "code",
   "execution_count": 2,
   "metadata": {},
   "outputs": [],
   "source": [
    "# Arma la función para obtener los trigramas#\n",
    "def _word2trigs(word):\n",
    "    trigs = []\n",
    "    word = ' ' + word + ' '\n",
    "    for i in range(0, len(word) - 2):\n",
    "        trigs.append(word[i:i+3])\n",
    "    return trigs\n"
   ]
  },
  {
   "cell_type": "code",
   "execution_count": 3,
   "metadata": {},
   "outputs": [
    {
     "name": "stdout",
     "output_type": "stream",
     "text": [
      "[' \"E', '\"En', 'En ', 'n e', ' es', 'est', 'sta', 'ta ', 'a c', ' co', 'coy', 'oyu', 'yun', 'unt', 'ntu', 'tur', 'ura', 'ra ', 'a n', ' no', 'no ', 'o t', ' ti', 'tie', 'ien', 'ene', 'ne ', 'e s', ' se', 'sen', 'ent', 'nti', 'tid', 'ido', 'do ', 'o l', ' la', 'la ', 'a c', ' ca', 'can', 'and', 'ndi', 'did', 'ida', 'dat', 'atu', 'tur', 'ura', 'ra ', 'a p', ' po', 'por', 'orq', 'rqu', 'que', 'ue ', 'e n', ' no', 'no ', 'o e', ' es', 'es ', 's n', ' no', 'nor', 'orm', 'rma', 'mal', 'al ', 'l q', ' qu', 'que', 'ue ', 'e a', ' a ', 'a u', ' un', 'una', 'na ', 'a p', ' pe', 'per', 'ers', 'rso', 'son', 'ona', 'na ', 'a l', ' la', 'la ', 'a c', ' ci', 'cit', 'ite', 'ten', 'en ', 'n a', ' a ', 'a o', ' oc', 'och', 'cho', 'ho ', 'o i', ' in', 'ind', 'nda', 'dag', 'aga', 'gat', 'ato', 'tor', 'ori', 'ria', 'ias', 'as ', 's e', ' en', 'en ', 'n u', ' un', 'un ', 'n m', ' mi', 'mis', 'ism', 'smo', 'mo ', 'o d', ' dí', 'día', 'ía\"', 'a\",', '\", ', ', d', ' di', 'dij', 'ijo', 'jo ', 'o V', ' Va', 'Val', 'ald', 'ldé', 'dés', 'és ', 's a', ' a ', 'a r', ' ra', 'rad', 'adi', 'dio', 'io ', 'o L', ' La', 'La ', 'a R', ' Re', 'Red', 'ed,', 'd, ', ', e', ' en', 'en ', 'n r', ' re', 'ref', 'efe', 'fer', 'ere', 'ren', 'enc', 'nci', 'cia', 'ia ', 'a a', ' a ', 'a l', ' la', 'las', 'as ', 's ú', ' úl', 'últ', 'lti', 'tim', 'ima', 'mas', 'as ', 's c', ' ci', 'cit', 'ita', 'tac', 'aci', 'cio', 'ion', 'one', 'nes', 'es ', 's d', ' de', 'del', 'el ', 'l j', ' ju', 'jue', 'uez', 'ez ', 'z B', ' Bo', 'Bon', 'ona', 'nad', 'adi', 'dio', 'io.', 'o. ', '. \"', ' \"S', '\"Si', 'Si ', 'i e', ' el', 'el ', 'l c', ' co', 'cos', 'ost', 'sto', 'to ', 'o e', ' es', 'es ', 's e', ' el', 'el ', 'l o', ' od', 'odi', 'dio', 'io ', 'o p', ' pe', 'per', 'erm', 'rma', 'man', 'ane', 'nen', 'ent', 'nte', 'te,', 'e, ', ', n', ' no', 'no ', 'o m', ' me', 'me ', 'e p', ' pa', 'par', 'are', 'rec', 'ece', 'ce ', 'e q', ' qu', 'que', 'ue ', 'e s', ' se', 'se ', 'e p', ' pr', 'pre', 'res', 'ese', 'sen', 'ent', 'nte', 'te\"', 'e\",', '\", ', ', a', ' añ', 'aña', 'ñad', 'adi', 'dió', 'ió.', 'ó. ']\n"
     ]
    }
   ],
   "source": [
    "#Aplicación\n",
    "print(_word2trigs('\"En esta coyuntura no tiene sentido la candidatura porque no es normal que a una persona la citen a ocho indagatorias en un mismo día\", dijo Valdés a radio La Red, en referencia a las últimas citaciones del juez Bonadio. \"Si el costo es el odio permanente, no me parece que se presente\", añadió.'))"
   ]
  },
  {
   "cell_type": "code",
   "execution_count": 4,
   "metadata": {},
   "outputs": [
    {
     "name": "stdout",
     "output_type": "stream",
     "text": [
      "['En esta coyuntura no tiene sentido la candidatura porque persona la', 'dijo Valdés a radio La Red, en referencia a las últimas']\n"
     ]
    }
   ],
   "source": [
    "vector_row = (['En esta coyuntura no tiene sentido la candidatura porque persona la', 'dijo Valdés a radio La Red, en referencia a las últimas'])\n",
    "print(vector_row)"
   ]
  },
  {
   "cell_type": "code",
   "execution_count": 5,
   "metadata": {},
   "outputs": [
    {
     "name": "stdout",
     "output_type": "stream",
     "text": [
      "En esta coyuntura no tiene sentido la candidatura porque persona la\n",
      "[' En', 'En ', 'n e', ' es', 'est', 'sta', 'ta ', 'a c', ' co', 'coy', 'oyu', 'yun', 'unt', 'ntu', 'tur', 'ura', 'ra ', 'a n', ' no', 'no ', 'o t', ' ti', 'tie', 'ien', 'ene', 'ne ', 'e s', ' se', 'sen', 'ent', 'nti', 'tid', 'ido', 'do ', 'o l', ' la', 'la ', 'a c', ' ca', 'can', 'and', 'ndi', 'did', 'ida', 'dat', 'atu', 'tur', 'ura', 'ra ', 'a p', ' po', 'por', 'orq', 'rqu', 'que', 'ue ', 'e p', ' pe', 'per', 'ers', 'rso', 'son', 'ona', 'na ', 'a l', ' la', 'la ']\n",
      "dijo Valdés a radio La Red, en referencia a las últimas\n",
      "[' di', 'dij', 'ijo', 'jo ', 'o V', ' Va', 'Val', 'ald', 'ldé', 'dés', 'és ', 's a', ' a ', 'a r', ' ra', 'rad', 'adi', 'dio', 'io ', 'o L', ' La', 'La ', 'a R', ' Re', 'Red', 'ed,', 'd, ', ', e', ' en', 'en ', 'n r', ' re', 'ref', 'efe', 'fer', 'ere', 'ren', 'enc', 'nci', 'cia', 'ia ', 'a a', ' a ', 'a l', ' la', 'las', 'as ', 's ú', ' úl', 'últ', 'lti', 'tim', 'ima', 'mas', 'as ']\n"
     ]
    }
   ],
   "source": [
    "for i in range(0, len(vector_row)):\n",
    "    listado = []\n",
    "    print(vector_row[i])\n",
    "    print(_word2trigs(vector_row[i]))\n",
    "    listado.append(_word2trigs(vector_row[i]))"
   ]
  },
  {
   "cell_type": "code",
   "execution_count": 6,
   "metadata": {},
   "outputs": [],
   "source": [
    "\n",
    "\n",
    "\n",
    "import string\n",
    "import math\n",
    "\n",
    "class Trigram:\n",
    "           \n",
    "    #self.ABC  = ' ABCDEFGHIJKLMNOPQRSTUVWXYZ'\n",
    "    #self.TRIGRAMS = [ x + y + z for x in abc for y in abc for z in abc]\n",
    "    \n",
    "    # Inicializacion \n",
    "    ##El __init__ apunta a la inicialización del metodo (es una palabra reservada)##\n",
    "    \n",
    "    def __init__(self,word):\n",
    "        trigs = self._word2trigs( self._cleanword(word) )\n",
    "        self.dvalues = {}\n",
    "        for tri in trigs:\n",
    "            self._set(tri)\n",
    "            \n",
    "    \"\"\" Operaciones \"\"\"\n",
    "    \n",
    "\n",
    "    # Producto Interno\n",
    "    # Producto interno de 2 vectores es una operación algebraica que toma dos secuencias de números de igual longitud \n",
    "    #(usualmente en la forma de vectores) y retorna un único número.\n",
    "    def iproduct(self, other):\n",
    "        sum = 0\n",
    "        list = self._getlist(other)\n",
    "        for i in list:\n",
    "            sum = sum + self.dvalues.get(i,0)*other.dvalues.get(i,0)    \n",
    "        return sum\n",
    "        \n",
    "    # Norma del vector (NORMA DEL VECTOR ES EL LARGO QUE TIENE - LA CANTIDAD DE UNOS)\n",
    "    def norm(self):\n",
    "        return math.sqrt(len(self.dvalues.keys()))\n",
    "    \n",
    "    # Comparacion de dos trigramas\n",
    "    def compare(self, other):\n",
    "        n1 =  self.norm()\n",
    "        n2 =  other.norm()\n",
    "        if n1!=0 and n2!=0:\n",
    "            return self.iproduct(other)/(n1*n2)\n",
    "        else:\n",
    "            return 0.0\n",
    "\n",
    "\n",
    "    \"\"\" Getters y Setters Privados  \"\"\"\n",
    "    # Marca el valor de un trigrama\n",
    "    def _set(self, tri):\n",
    "        self.dvalues[self._tri2int(tri)] = 1\n",
    "\n",
    "    # Obtiene el valor de un trigrama\n",
    "    def _get(self, tri):\n",
    "        tvalue = self._tri2int(tri)\n",
    "        if self.dvalues.has_key(tvalue):\n",
    "            return self.dvalues[tvalue]\n",
    "        else:\n",
    "            return 0\n",
    "    \n",
    "    \"\"\" Funciones Auxiliares \"\"\"\n",
    "    # Limpia la palabra para su conversion    \n",
    "    def _cleanword(self, word):\n",
    "         return word.upper()\n",
    "        \n",
    "    # Obtiene los trigramas correspondientes a una palabra\n",
    "    def _word2trigs(self, word):\n",
    "        trigs = []\n",
    "        word = ' ' + word + ' '\n",
    "        for i in range(0, len(word) - 2):\n",
    "            trigs.append(word[i:i+3])\n",
    "        return trigs\n",
    "    \n",
    "    # obtiene el valor entero de un char\n",
    "    def _charvalue(self, c):\n",
    "        if c.isalpha():\n",
    "            return ord(c)-ord('A')+1\n",
    "        elif c.isspace():\n",
    "            return 0\n",
    "        else:\n",
    "            return -1\n",
    "        \n",
    "    # convierte un trigrama en su representacion entera\n",
    "    #EN ESTA PARTE UBICA ASIGNA A CADA LETRA DEL TRIGRAMA SU NUMERO Y LO UBICA EN EL ESPACIO.. POR EJEMPLO Z ES LA LETRA 27\n",
    "    ##ENTONCES UN TRIGRAMA DE ZZZ TIENE LA ULTIMA POSICION Y EL QUE TENGA \"   \" (TRES ESPACIOS VACIOS, lA PRIMERA)\n",
    "    def _tri2int(self, tri):\n",
    "        return self._charvalue(tri[2]) + self._charvalue(tri[1])*27 + self._charvalue(tri[0])*27*27\n",
    "    \n",
    "  \n",
    "    # Obtiene una lista ordenada y sin duplicados de los trigramas \n",
    "    def _getlist(self, other):\n",
    "        list = self.dvalues.keys() + other.dvalues.keys()\n",
    "        list.sort()\n",
    "        list = self._cleanduplicates(list)\n",
    "        return list\n",
    "    \n",
    "    # limpia duplicados de una lista ordenada\n",
    "    def _cleanduplicates(self, sortedlist):\n",
    "        cleanedlist = []\n",
    "        old = None    \n",
    "        for e in sortedlist:\n",
    "            if e != old:\n",
    "                cleanedlist.append(e)\n",
    "                old = e\n",
    "        return cleanedlist\n",
    " \n"
   ]
  },
  {
   "cell_type": "code",
   "execution_count": 7,
   "metadata": {},
   "outputs": [
    {
     "name": "stdout",
     "output_type": "stream",
     "text": [
      "<__main__.Trigram object at 0x0000016D1373A128>\n"
     ]
    }
   ],
   "source": [
    "print(Trigram('En esta coyuntura no tiene sentido la candidatura porque persona la'))"
   ]
  },
  {
   "cell_type": "code",
   "execution_count": null,
   "metadata": {},
   "outputs": [],
   "source": []
  },
  {
   "cell_type": "code",
   "execution_count": null,
   "metadata": {
    "collapsed": true
   },
   "outputs": [],
   "source": []
  }
 ],
 "metadata": {
  "kernelspec": {
   "display_name": "Python 3",
   "language": "python",
   "name": "python3"
  },
  "language_info": {
   "codemirror_mode": {
    "name": "ipython",
    "version": 3
   },
   "file_extension": ".py",
   "mimetype": "text/x-python",
   "name": "python",
   "nbconvert_exporter": "python",
   "pygments_lexer": "ipython3",
   "version": "3.7.3"
  }
 },
 "nbformat": 4,
 "nbformat_minor": 2
}
